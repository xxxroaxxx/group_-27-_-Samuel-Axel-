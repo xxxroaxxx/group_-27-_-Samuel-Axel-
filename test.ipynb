{
 "cells": [
  {
   "cell_type": "code",
   "execution_count": 6,
   "metadata": {},
   "outputs": [
    {
     "name": "stdout",
     "output_type": "stream",
     "text": [
      "21241\n"
     ]
    }
   ],
   "source": [
    "import csv\n",
    "\n",
    "# python built-in imports\n",
    "from dataclasses import dataclass\n",
    "\n",
    "\n",
    "@dataclass\n",
    "class Dummy:\n",
    "    title: str\n",
    "    score: float\n",
    "    score_phrase: str\n",
    "    platform: str\n",
    "    genre: str\n",
    "    release_year: int\n",
    "    release_month: int\n",
    "    release_day: int\n",
    "\n",
    "\n",
    "with open(\"IGN_games.csv\", \"r\", encoding=\"utf-8\") as file:\n",
    "    reader = csv.DictReader(file)\n",
    "    data: list[dict[str, str]] = list(reader)\n",
    "    # data: list[dict[str, str]] = [row for row in reader]\n",
    "\n",
    "leliste: list[Dummy] = []\n",
    "\n",
    "for row in data:\n",
    "    if \",\" not in row[\"genre\"]:\n",
    "        le_game = Dummy(\n",
    "            title=row[\"title\"],\n",
    "            score=float(row[\"score\"]),\n",
    "            score_phrase=row[\"score_phrase\"],\n",
    "            platform=row[\"platform\"],\n",
    "            genre=row[\"genre\"],\n",
    "            release_year=int(row[\"release_year\"]),\n",
    "            release_month=int(row[\"release_month\"]),\n",
    "            release_day=int(row[\"release_day\"]),\n",
    "        )\n",
    "        leliste.append(le_game)\n",
    "    else:\n",
    "        duallist = row[\"genre\"].split(\", \")\n",
    "        le_game1 = Dummy(\n",
    "            title=row[\"title\"],\n",
    "            score=float(row[\"score\"]),\n",
    "            score_phrase=row[\"score_phrase\"],\n",
    "            platform=row[\"platform\"],\n",
    "            genre=duallist[0],\n",
    "            release_year=int(row[\"release_year\"]),\n",
    "            release_month=int(row[\"release_month\"]),\n",
    "            release_day=int(row[\"release_day\"]),\n",
    "        )\n",
    "        le_game2 = Dummy(\n",
    "            title=row[\"title\"],\n",
    "            score=float(row[\"score\"]),\n",
    "            score_phrase=row[\"score_phrase\"],\n",
    "            platform=row[\"platform\"],\n",
    "            genre=duallist[1],\n",
    "            release_year=int(row[\"release_year\"]),\n",
    "            release_month=int(row[\"release_month\"]),\n",
    "            release_day=int(row[\"release_day\"]),\n",
    "        )\n",
    "        leliste.append(le_game1)\n",
    "        leliste.append(le_game2)\n",
    "print(len(leliste))"
   ]
  },
  {
   "cell_type": "code",
   "execution_count": null,
   "metadata": {},
   "outputs": [],
   "source": []
  }
 ],
 "metadata": {
  "kernelspec": {
   "display_name": "Python 3",
   "language": "python",
   "name": "python3"
  },
  "language_info": {
   "codemirror_mode": {
    "name": "ipython",
    "version": 3
   },
   "file_extension": ".py",
   "mimetype": "text/x-python",
   "name": "python",
   "nbconvert_exporter": "python",
   "pygments_lexer": "ipython3",
   "version": "3.10.13"
  }
 },
 "nbformat": 4,
 "nbformat_minor": 2
}
